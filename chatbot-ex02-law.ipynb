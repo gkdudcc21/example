{
 "cells": [
  {
   "cell_type": "markdown",
   "id": "a88b5bb7",
   "metadata": {},
   "source": [
    "[문제] Managing Conversation History\n",
    "- trim_messages()\n",
    "- RunnablePassthrough \n",
    "- itemgetter()\n",
    "\n",
    "세션ID 설정하고, 대화를 진행합니다. (multi-turn conversation) \n",
    "LLM 모델이 과거 대화를 알지(기억) 못하는 상황을 만드세요."
   ]
  },
  {
   "cell_type": "code",
   "execution_count": 2,
   "id": "f93d76b8",
   "metadata": {},
   "outputs": [],
   "source": [
    "## 1. 모듈(파일, 라이브러리) 읽어오기\n",
    "from langchain_core.runnables.history import RunnableWithMessageHistory\n",
    "from langchain_core.chat_history import InMemoryChatMessageHistory, BaseChatMessageHistory\n",
    "from langchain_core.prompts import ChatPromptTemplate\n",
    "from langchain.callbacks.streaming_stdout import StreamingStdOutCallbackHandler\n",
    "from langchain_openai import ChatOpenAI\n",
    "\n",
    "from dotenv import load_dotenv\n",
    "\n",
    "\n",
    "## 2. 환경변수에 설정된 값 읽어오기\n",
    "load_dotenv()\n",
    "\n",
    "## 3. 파일 읽기\n",
    "file_name = '남녀고용평등과 일ㆍ가정 양립 지원에 관한 법률(법률)(제20521호)(20250223).txt'\n",
    "\n",
    "with open(file_name, 'r', encoding='utf-8') as file:\n",
    "    law = file.read()\n",
    "\n",
    "## 4. prompt 생성\n",
    "template = [\n",
    "    ('system', '''당신은 육아휴직 법률 전문가입니다.\n",
    "     아래 문서를 참고하여, 사용자 질문에 성실하게 답변합니다.\n",
    "     답변은 문서 내용을 기반으로 하되, 해당 조항도 표시합니다.\n",
    "     - 문서: {law}'''),\n",
    "     ('placeholder', '{chat_history}'),\n",
    "    ('user', '{query}')\n",
    "]\n",
    "\n",
    "prompt = ChatPromptTemplate.from_messages(template)\n",
    "\n",
    "\n",
    "## 5. ChatOpenAI 인스턴스 생성\n",
    "llm = ChatOpenAI(\n",
    "    model='gpt-4o',\n",
    "    streaming=True,\n",
    "    callbacks=[StreamingStdOutCallbackHandler()],\n",
    "    max_tokens=512, \n",
    ")\n",
    "\n",
    "\n",
    "from langchain_core.messages import trim_messages\n",
    "\n",
    "## 6. trim 설정\n",
    "trimmer = trim_messages(\n",
    "    max_tokens=65,       ## 최대 토큰 수 제한\n",
    "    strategy=\"last\",     ## 최근 메시지부터 시작해서 자르기\n",
    "    token_counter=llm,   ## 모델 기준으로 토큰 수 계산 \n",
    "    include_system=True, ## 시스템 메시지 포함\n",
    "    allow_partial=False, ## 메시지 자르기 제한\n",
    "    start_on=\"human\",    ## human 메시지부터 자르기 시작\n",
    ")\n",
    "\n",
    "from langchain_core.runnables import RunnablePassthrough\n",
    "from operator import itemgetter\n",
    "\n",
    "## 7. chain 구성\n",
    "chain = (\n",
    "    RunnablePassthrough.assign(chat_history=itemgetter('chat_history') | trimmer)\n",
    "    | prompt \n",
    "    | llm\n",
    "    )\n",
    "\n",
    "## 8. 세션별 대화 이력(히스토리)을 저장할 임시 메모리 저장소\n",
    "store = {}\n",
    "\n",
    "## 9. 함수 정의: 대화 이력(히스토리) 인스턴스 리턴\n",
    "def get_history(session_id: str) -> BaseChatMessageHistory:\n",
    "    if session_id not in store:\n",
    "        store[session_id] = InMemoryChatMessageHistory()\n",
    "    return store[session_id]\n",
    "\n",
    "\n",
    "\n",
    "## 10. chain에 대화 이력(히스토리) 기능을 래핑해서 추가\n",
    "with_message_history = RunnableWithMessageHistory(\n",
    "    chain,\n",
    "    get_history,\n",
    "    history_messages_key='chat_history',\n",
    "    input_messages_key='query',\n",
    ")\n"
   ]
  },
  {
   "cell_type": "code",
   "execution_count": 5,
   "id": "7ce4f390",
   "metadata": {},
   "outputs": [
    {
     "name": "stdout",
     "output_type": "stream",
     "text": [
      "육아휴직의 기간은 1년 이내입니다. 다만, 다음의 경우에 해당하는 근로자는 6개월 이내에서 추가로 육아휴직을 사용할 수 있습니다(제19조 제2항).\n",
      "\n",
      "1. 같은 자녀를 대상으로 부모가 모두 육아휴직을 각각 3개월 이상 사용한 경우의 부 또는 모\n",
      "2. 「한부모가족지원법」 제4조제1호의 부 또는 모\n",
      "3. 고용노동부령으로 정하는 장애아동의 부 또는 모\n",
      "==================================================\n",
      "\n",
      "육아휴직의 조건에 대해 말씀드리겠습니다. 이 법에 따르면 사업주는 임신 중인 여성 근로자가 모성을 보호하거나 근로자가 만 8세 이하 또는 초등학교 2학년 이하의 자녀를 양육하기 위해 육아휴직을 신청하는 경우 이를 허용해야 합니다. 다만, 대통령령으로 정하는 특정 경우에는 예외가 적용될 수 있습니다. 육아휴직의 기간은 1년 이내로 하되, 부모가 모두 육아휴직을 3개월 이상 각각 사용한 경우 등 특정 요건을 충족할 때는 최대 6개월을 추가로 사용할 수 있습니다(제19조 제1항 및 제2항).\n",
      "==================================================\n",
      "\n",
      "육아휴직 수당 자체에 대한 구체적인 금액은 남녀고용평등법 자체에서는 명시되어 있지 않습니다. 다만, 육아휴직을 사용한 근로자에게 지원하는 금액과 관련하여서는 다른 법률이나 정부 정책에 따라 결정될 수 있습니다. 문서에 명시된 내용에 따르면, 국가는 근로자의 육아휴직이나 육아기 근로시간 단축을 허용한 경우 그 근로자의 생계비용과 사업주의 고용유지비용의 일부를 지원할 수 있다고 규정하고 있습니다(제20조). 따라서 육아휴직 수당의 구체적인 금액은 고용보험의 지원 사항 및 정부의 정책에 따라 결정되며, 이는 관련 기관에 문의하시거나 고용보험 관련 법령을 확인하시는 것이 좋습니다.\n",
      "==================================================\n",
      "\n",
      "죄송하지만, 제가 이전 대화나 질문 히스토리를 확인할 수 있는 기능은 없습니다. 지금 궁금하신 부분에 대해 다시 질문해 주시면 성심성의껏 답변드리겠습니다. 무엇을 도와드릴까요?\n",
      "==================================================\n",
      "\n"
     ]
    }
   ],
   "source": [
    "\n",
    "## 11. 실행\n",
    "while True:\n",
    "    query = input('육아휴직과 관련된 질문하세요 >> ')\n",
    "\n",
    "    if query.upper()== 'S':\n",
    "        break\n",
    "\n",
    "    with_message_history.invoke(\n",
    "        {'law': law, 'query': query},\n",
    "        config={'configurable': {'session_id': 'abc'}}\n",
    "    )\n",
    "\n",
    "    print('\\n' + '=' * 50 + '\\n')"
   ]
  },
  {
   "cell_type": "code",
   "execution_count": 6,
   "id": "c7d60228",
   "metadata": {},
   "outputs": [
    {
     "data": {
      "text/plain": [
       "{'abc': InMemoryChatMessageHistory(messages=[HumanMessage(content='육아휴직 기간은 얼마나 되나요', additional_kwargs={}, response_metadata={}), AIMessage(content='육아휴직의 기간은 1년 이내입니다. 다만, 다음의 경우에 해당하는 근로자는 6개월 이내에서 추가로 육아휴직을 사용할 수 있습니다(제19조 제2항).\\n\\n1. 같은 자녀를 대상으로 부모가 모두 육아휴직을 각각 3개월 이상 사용한 경우의 부 또는 모\\n2. 「한부모가족지원법」 제4조제1호의 부 또는 모\\n3. 고용노동부령으로 정하는 장애아동의 부 또는 모', additional_kwargs={}, response_metadata={'finish_reason': 'stop', 'model_name': 'gpt-4o-2024-08-06', 'system_fingerprint': 'fp_07871e2ad8'}, id='run-2a75838a-9ff1-4154-917d-48db088bc35a-0'), HumanMessage(content='육아휴직 조건은 무엇인가요?', additional_kwargs={}, response_metadata={}), AIMessage(content='육아휴직의 조건에 대해 말씀드리겠습니다. 이 법에 따르면 사업주는 임신 중인 여성 근로자가 모성을 보호하거나 근로자가 만 8세 이하 또는 초등학교 2학년 이하의 자녀를 양육하기 위해 육아휴직을 신청하는 경우 이를 허용해야 합니다. 다만, 대통령령으로 정하는 특정 경우에는 예외가 적용될 수 있습니다. 육아휴직의 기간은 1년 이내로 하되, 부모가 모두 육아휴직을 3개월 이상 각각 사용한 경우 등 특정 요건을 충족할 때는 최대 6개월을 추가로 사용할 수 있습니다(제19조 제1항 및 제2항).', additional_kwargs={}, response_metadata={'finish_reason': 'stop', 'model_name': 'gpt-4o-2024-08-06', 'system_fingerprint': 'fp_07871e2ad8'}, id='run-4ba412ad-0b43-4401-8ee4-36779a573e7c-0'), HumanMessage(content='육아휴직 수당은 얼마인가요?', additional_kwargs={}, response_metadata={}), AIMessage(content='육아휴직 수당 자체에 대한 구체적인 금액은 남녀고용평등법 자체에서는 명시되어 있지 않습니다. 다만, 육아휴직을 사용한 근로자에게 지원하는 금액과 관련하여서는 다른 법률이나 정부 정책에 따라 결정될 수 있습니다. 문서에 명시된 내용에 따르면, 국가는 근로자의 육아휴직이나 육아기 근로시간 단축을 허용한 경우 그 근로자의 생계비용과 사업주의 고용유지비용의 일부를 지원할 수 있다고 규정하고 있습니다(제20조). 따라서 육아휴직 수당의 구체적인 금액은 고용보험의 지원 사항 및 정부의 정책에 따라 결정되며, 이는 관련 기관에 문의하시거나 고용보험 관련 법령을 확인하시는 것이 좋습니다.', additional_kwargs={}, response_metadata={'finish_reason': 'stop', 'model_name': 'gpt-4o-2024-08-06', 'system_fingerprint': 'fp_07871e2ad8'}, id='run-bcd29f37-9935-4231-91fc-a73e2010a54e-0'), HumanMessage(content='첫 번째 질문이 뭐였죠?', additional_kwargs={}, response_metadata={}), AIMessage(content='죄송하지만, 제가 이전 대화나 질문 히스토리를 확인할 수 있는 기능은 없습니다. 지금 궁금하신 부분에 대해 다시 질문해 주시면 성심성의껏 답변드리겠습니다. 무엇을 도와드릴까요?', additional_kwargs={}, response_metadata={'finish_reason': 'stop', 'model_name': 'gpt-4o-2024-08-06', 'system_fingerprint': 'fp_07871e2ad8'}, id='run-0322ca90-dcb1-428a-b9e1-ee5727c8a1ba-0')])}"
      ]
     },
     "execution_count": 6,
     "metadata": {},
     "output_type": "execute_result"
    }
   ],
   "source": [
    "store"
   ]
  },
  {
   "cell_type": "code",
   "execution_count": 7,
   "id": "0997ab2c",
   "metadata": {},
   "outputs": [
    {
     "name": "stdout",
     "output_type": "stream",
     "text": [
      "[HUMAN]:육아휴직 기간은 얼마나 되나요\n",
      "\n",
      "[AI]:육아휴직의 기간은 1년 이내입니다. 다만, 다음의 경우에 해당하는 근로자는 6개월 이내에서 추가로 육아휴직을 사용할 수 있습니다(제19조 제2항).\n",
      "\n",
      "1. 같은 자녀를 대상으로 부모가 모두 육아휴직을 각각 3개월 이상 사용한 경우의 부 또는 모\n",
      "2. 「한부모가족지원법」 제4조제1호의 부 또는 모\n",
      "3. 고용노동부령으로 정하는 장애아동의 부 또는 모\n",
      "\n",
      "[HUMAN]:육아휴직 조건은 무엇인가요?\n",
      "\n",
      "[AI]:육아휴직의 조건에 대해 말씀드리겠습니다. 이 법에 따르면 사업주는 임신 중인 여성 근로자가 모성을 보호하거나 근로자가 만 8세 이하 또는 초등학교 2학년 이하의 자녀를 양육하기 위해 육아휴직을 신청하는 경우 이를 허용해야 합니다. 다만, 대통령령으로 정하는 특정 경우에는 예외가 적용될 수 있습니다. 육아휴직의 기간은 1년 이내로 하되, 부모가 모두 육아휴직을 3개월 이상 각각 사용한 경우 등 특정 요건을 충족할 때는 최대 6개월을 추가로 사용할 수 있습니다(제19조 제1항 및 제2항).\n",
      "\n",
      "[HUMAN]:육아휴직 수당은 얼마인가요?\n",
      "\n",
      "[AI]:육아휴직 수당 자체에 대한 구체적인 금액은 남녀고용평등법 자체에서는 명시되어 있지 않습니다. 다만, 육아휴직을 사용한 근로자에게 지원하는 금액과 관련하여서는 다른 법률이나 정부 정책에 따라 결정될 수 있습니다. 문서에 명시된 내용에 따르면, 국가는 근로자의 육아휴직이나 육아기 근로시간 단축을 허용한 경우 그 근로자의 생계비용과 사업주의 고용유지비용의 일부를 지원할 수 있다고 규정하고 있습니다(제20조). 따라서 육아휴직 수당의 구체적인 금액은 고용보험의 지원 사항 및 정부의 정책에 따라 결정되며, 이는 관련 기관에 문의하시거나 고용보험 관련 법령을 확인하시는 것이 좋습니다.\n",
      "\n",
      "[HUMAN]:첫 번째 질문이 뭐였죠?\n",
      "\n",
      "[AI]:죄송하지만, 제가 이전 대화나 질문 히스토리를 확인할 수 있는 기능은 없습니다. 지금 궁금하신 부분에 대해 다시 질문해 주시면 성심성의껏 답변드리겠습니다. 무엇을 도와드릴까요?\n",
      "\n"
     ]
    }
   ],
   "source": [
    "for message in get_history('abc').messages:\n",
    "    print(f'[{message.type.upper()}]:{message.content}\\n')\n",
    "    "
   ]
  },
  {
   "cell_type": "code",
   "execution_count": null,
   "id": "23040b4f",
   "metadata": {},
   "outputs": [],
   "source": []
  }
 ],
 "metadata": {
  "kernelspec": {
   "display_name": "project",
   "language": "python",
   "name": "python3"
  },
  "language_info": {
   "codemirror_mode": {
    "name": "ipython",
    "version": 3
   },
   "file_extension": ".py",
   "mimetype": "text/x-python",
   "name": "python",
   "nbconvert_exporter": "python",
   "pygments_lexer": "ipython3",
   "version": "3.10.12"
  }
 },
 "nbformat": 4,
 "nbformat_minor": 5
}
