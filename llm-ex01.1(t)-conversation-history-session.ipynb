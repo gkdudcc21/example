{
 "cells": [
  {
   "cell_type": "markdown",
   "id": "e4b78cd6",
   "metadata": {},
   "source": [
    "## [문제] \n",
    "- session id 부여"
   ]
  },
  {
   "cell_type": "code",
   "execution_count": null,
   "id": "93805709",
   "metadata": {},
   "outputs": [],
   "source": [
    "## 1. 모듈(파일, 라이브러리) 읽어오기\n",
    "from langchain_openai import ChatOpenAI\n",
    "from langchain.callbacks.streaming_stdout import StreamingStdOutCallbackHandler  \n",
    "from langchain_core.prompts import ChatPromptTemplate\n",
    "from langchain_core.runnables.history import RunnableWithMessageHistory\n",
    "from langchain_core.chat_history import InMemoryChatMessageHistory, BaseChatMessageHistory\n",
    "from dotenv import load_dotenv  \n",
    "\n",
    "\n",
    "## 2. 환경변수에 설정된 값 읽어오기\n",
    "load_dotenv()\n",
    "\n",
    "\n",
    "## 3. 파일 읽기\n",
    "file_name = 'C:\\course_video\\llm_basic\\llm_0520\\남녀고용평등과 일ㆍ가정 양립 지원에 관한 법률(법률)(제20521호)(20250223).txt'\n",
    "\n",
    "with open(file_name,'r',encoding='UTF-8') as file:\n",
    "    law= file.read()\n",
    "    # print(law[:50])\n",
    "\n",
    "## 4. prompt 생성    \n",
    "template = [\n",
    "    ('system', '''\n",
    "     당신은 육아휴직 법률 전문가입니다\n",
    "     아래 문서를 참고하여, 사용자 질문에 성실하게 답변합니다.\n",
    "     답변은 문서 내용을 기반으로 하되, 해당 조항도 표시합니다.\n",
    "     - 문서: {law}'''),\n",
    "    ('placeholder', '{chat_history}'),\n",
    "    ('user', '{query}')\n",
    "]\n",
    "\n",
    "prompt = ChatPromptTemplate.from_messages(template)\n",
    "\n",
    "## 5.ChatOpenAI 인스턴스 생성\n",
    "llm = ChatOpenAI(\n",
    "  model='gpt-4.1-nano',\n",
    "  streaming=True,\n",
    "  callbacks=[StreamingStdOutCallbackHandler()],\n",
    ")\n",
    "\n",
    "## 6. chain 구성\n",
    "chain = prompt | llm \n",
    "\n",
    "## 7. 대화 이력(히스토리) 관리 인스턴스 생성\n",
    "history = InMemoryChatMessageHistory()\n",
    "\n",
    "store = {}\n",
    "\n",
    "## 8. 함수 정의: 대화 이력(히스토리) 인스턴스 리턴\n",
    "def get_history(session_id:str)-> BaseChatMessageHistory:\n",
    "    if session_id not in store:\n",
    "        store[session_id] = InMemoryChatMessageHistory()\n",
    "    return history\n",
    "\n",
    "## 9. 사용자 질문 받기\n",
    "query = input(\"육아휴직과 관련된 질문하세요 >> \")\n",
    "\n",
    "## 10. chain에 대화 이력(히스토리) 기능을 래필해서 추가\n",
    "with_message_history = RunnableWithMessageHistory(\n",
    "    chain, \n",
    "    get_history,\n",
    "    history_messages_key='chat_history',\n",
    "    input_messages_key='query',\n",
    ")\n",
    "\n",
    "## 11. 실행\n",
    "with_message_history.invoke(\n",
    "    {'law': law, 'query':query},\n",
    "    config={'configurable':{'session_id': 'abc'}}\n",
    "    )"
   ]
  },
  {
   "cell_type": "code",
   "execution_count": 6,
   "id": "6c885998",
   "metadata": {},
   "outputs": [
    {
     "data": {
      "text/plain": [
       "InMemoryChatMessageHistory(messages=[HumanMessage(content='육아휴직 기간은 어떻게되나요?', additional_kwargs={}, response_metadata={}), AIMessage(content='육아휴직의 기간에 대하여는 「남녀고용평등과 일ㆍ가정 양립 지원에 관한 법률」 제19조(육아휴직)에 규정되어 있습니다. 육아휴직은 근로자가 신청할 경우, 임신 중인 여성 근로자 또는 만 8세 이하 또는 초등학교 2학년 이하의 자녀를 양육하는 근로자가 사용할 수 있으며, 그 기간은 최대 1년입니다.\\n\\n다만, 다음과 같은 경우에는 휴직기간이 최소 6개월이 될 수 있습니다:\\n- 같은 자녀를 대상으로 부모 각각이 각각 3개월 이상 육아휴직을 사용한 경우(제19조 제2항).  \\n- 법령에 따른 특별한 사유로 기간 연장이 가능하며, 2024년 개정에 따라 기간이 일부 조정될 수 있음을 참고하시기 바랍니다.\\n\\n또한, 육아휴직은 1년 이내로 허용되며, 근로자가 원할 경우 6개월 이상의 연장(최대 2년)도 가능합니다. 이와 관련하여, 육아휴직 기간 동안에는 해고나 불이익 조치를 할 수 없으며, 복귀 시에는 휴직 전과 같은 업무 또는 유사한 업무에 복귀시켜야 합니다(제19조 제4항).\\n\\n이 법률 조항은 육아휴직의 원활한 이용권 보장과 일ㆍ가정 양립 지원을 위해 마련된 것으로, 육아휴직의 구체적 사용 방법, 기간, 절차 등에 관한 세부 사항은 대통령령으로 정하고 있습니다.', additional_kwargs={}, response_metadata={'finish_reason': 'stop', 'model_name': 'gpt-4.1-nano-2025-04-14', 'system_fingerprint': 'fp_eede8f0d45'}, id='run-75e63cbb-ce1d-48dc-a809-a46063b507c4-0')])"
      ]
     },
     "execution_count": 6,
     "metadata": {},
     "output_type": "execute_result"
    }
   ],
   "source": [
    "get_history('abc')"
   ]
  }
 ],
 "metadata": {
  "kernelspec": {
   "display_name": "project",
   "language": "python",
   "name": "python3"
  },
  "language_info": {
   "codemirror_mode": {
    "name": "ipython",
    "version": 3
   },
   "file_extension": ".py",
   "mimetype": "text/x-python",
   "name": "python",
   "nbconvert_exporter": "python",
   "pygments_lexer": "ipython3",
   "version": "3.10.12"
  }
 },
 "nbformat": 4,
 "nbformat_minor": 5
}
